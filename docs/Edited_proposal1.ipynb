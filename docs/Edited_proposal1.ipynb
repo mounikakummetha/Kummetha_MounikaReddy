{
 "cells": [
  {
   "cell_type": "markdown",
   "id": "7b196cef",
   "metadata": {},
   "source": [
    "# Personalized Recipe Recommender System\n",
    "\n",
    "This repository contains all the necessary files and documentation for the \"Personalized Recipe Recommender System\" project, prepared as a capstone for the UMBC Data Science Master's Degree program by Dr. Chaojie (Jay) Wang.\n",
    "\n",
    "## Author\n",
    "\n",
    "- **[Mounika Reddy Kummetha]**\n",
    "  - GitHub: (https://github.com/mounikakummetha/UMBC-DATA606-FALL2023-MONDAY)\n",
    "  - LinkedIn: \n",
    "  - PowerPoint Presentation: \n",
    "  - YouTube Video: \n",
    "\n",
    "## Background\n",
    "\n",
    "The project aims to develop a system that recommends personalized recipes to users by analyzing their dietary preferences, historical ratings, and ingredient availability. This endeavor is significant as it seeks to enhance user experience, promote healthier eating habits, and cater to diverse dietary needs and preferences.\n",
    "\n",
    "### Research Questions\n",
    "\n",
    "- Can a machine learning model be trained to accurately recommend recipes based on individual user preferences?\n",
    "- What is the impact of ingredient profiles and user rating histories on the quality of recipe recommendations?\n",
    "\n",
    "## Data\n",
    "\n",
    "The data for this project is sourced from Kaggle's Food.com Recipes and Interactions dataset.\n",
    "\n",
    "- **Data Size:** Approximately 500 MB\n",
    "- **Data Shape:** ~230,000 recipes and 1 million user interactions\n",
    "- **Each Row Represents:** Detailed information on individual recipes or user interactions with the recipes\n",
    "\n",
    "### Data Dictionary\n",
    "\n",
    "| Column Name     | Data Type         | Definition                                                        |\n",
    "|-----------------|-------------------|-------------------------------------------------------------------|\n",
    "| Recipe_ID       | Integer           | Unique identifier for each recipe                                 |\n",
    "| Recipe_Name     | String            | The title of the recipe                                           |\n",
    "| Ingredients     | String (List)     | Array of ingredients used in the recipe                           |\n",
    "| Dietary_Labels  | String            | Classification according to dietary restrictions (e.g., Vegan)    |\n",
    "| User_ID         | Integer           | Unique identifier for each user                                   |\n",
    "| User_Ratings    | Float             | Ratings provided by users for the recipes                         |\n",
    "\n",
    "### Target/Label\n",
    "\n",
    "- The target variable is the **User Ratings**, which the recommender system aims to predict.\n",
    "\n",
    "### Features/Predictors\n",
    "\n",
    "- The features include **Ingredients**, **Dietary_Labels**, **User Preferences**, and **Past Ratings**."
   ]
  },
  {
   "cell_type": "code",
   "execution_count": null,
   "id": "264be57d",
   "metadata": {},
   "outputs": [],
   "source": []
  }
 ],
 "metadata": {
  "kernelspec": {
   "display_name": "Python 3 (ipykernel)",
   "language": "python",
   "name": "python3"
  },
  "language_info": {
   "codemirror_mode": {
    "name": "ipython",
    "version": 3
   },
   "file_extension": ".py",
   "mimetype": "text/x-python",
   "name": "python",
   "nbconvert_exporter": "python",
   "pygments_lexer": "ipython3",
   "version": "3.9.13"
  }
 },
 "nbformat": 4,
 "nbformat_minor": 5
}
